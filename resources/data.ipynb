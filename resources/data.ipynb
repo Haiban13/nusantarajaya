{
 "cells": [
  {
   "cell_type": "code",
   "execution_count": 2,
   "id": "2c13eec7",
   "metadata": {},
   "outputs": [],
   "source": [
    "import pandas as pd\n",
    "import numpy as np"
   ]
  },
  {
   "cell_type": "code",
   "execution_count": 3,
   "id": "071d33de",
   "metadata": {},
   "outputs": [
    {
     "data": {
      "text/plain": [
       "0"
      ]
     },
     "execution_count": 3,
     "metadata": {},
     "output_type": "execute_result"
    }
   ],
   "source": [
    "dataset=pd.read_excel(\"./daftar-kabupaten-kota-di-indonesia-excel.xlsx\")\n",
    "dataset[\"passwd\"].duplicated().sum()"
   ]
  },
  {
   "cell_type": "code",
   "execution_count": 6,
   "id": "04bcffff",
   "metadata": {},
   "outputs": [],
   "source": [
    "dataset[\"nama\"]=dataset[\"nama\"].str.replace(' ','',regex=True).str.lower() +\"@gmail.com\""
   ]
  },
  {
   "cell_type": "code",
   "execution_count": 7,
   "id": "a4e89fab",
   "metadata": {},
   "outputs": [
    {
     "data": {
      "application/vnd.microsoft.datawrangler.viewer.v0+json": {
       "columns": [
        {
         "name": "index",
         "rawType": "int64",
         "type": "integer"
        },
        {
         "name": "nama",
         "rawType": "object",
         "type": "string"
        },
        {
         "name": "passwd",
         "rawType": "int64",
         "type": "integer"
        }
       ],
       "ref": "40df6bf8-59ef-495b-9eac-5fbda1711595",
       "rows": [
        [
         "0",
         "kabupatenacehbarat@gmail.com",
         "760992"
        ],
        [
         "1",
         "kabupatenacehbaratdaya@gmail.com",
         "587378"
        ],
        [
         "2",
         "kabupatenacehbesar@gmail.com",
         "742332"
        ],
        [
         "3",
         "kabupatenacehjaya@gmail.com",
         "826325"
        ],
        [
         "4",
         "kabupatenacehselatan@gmail.com",
         "74060"
        ],
        [
         "5",
         "kabupatenacehsingkil@gmail.com",
         "588345"
        ],
        [
         "6",
         "kabupatenacehtamiang@gmail.com",
         "343234"
        ],
        [
         "7",
         "kabupatenacehtengah@gmail.com",
         "425763"
        ],
        [
         "8",
         "kabupatenacehtenggara@gmail.com",
         "583354"
        ],
        [
         "9",
         "kabupatenacehtimur@gmail.com",
         "22662"
        ],
        [
         "10",
         "kabupatenacehutara@gmail.com",
         "349807"
        ],
        [
         "11",
         "kabupatenbenermeriah@gmail.com",
         "603096"
        ],
        [
         "12",
         "kabupatenbireuen@gmail.com",
         "148616"
        ],
        [
         "13",
         "kabupatengayolues@gmail.com",
         "118815"
        ],
        [
         "14",
         "kabupatennaganraya@gmail.com",
         "760581"
        ],
        [
         "15",
         "kabupatenpidie@gmail.com",
         "729393"
        ],
        [
         "16",
         "kabupatenpidiejaya@gmail.com",
         "983148"
        ],
        [
         "17",
         "kabupatensimeulue@gmail.com",
         "284205"
        ],
        [
         "18",
         "kotabandaaceh@gmail.com",
         "91704"
        ],
        [
         "19",
         "kotalangsa@gmail.com",
         "50839"
        ],
        [
         "20",
         "kotalhokseumawe@gmail.com",
         "398321"
        ],
        [
         "21",
         "kotasabang@gmail.com",
         "399681"
        ],
        [
         "22",
         "kotasubulussalam@gmail.com",
         "188693"
        ],
        [
         "23",
         "kabupatenasahan@gmail.com",
         "483334"
        ],
        [
         "24",
         "kabupatenbatubara@gmail.com",
         "386084"
        ],
        [
         "25",
         "kabupatendairi@gmail.com",
         "658783"
        ],
        [
         "26",
         "kabupatendeliserdang@gmail.com",
         "403840"
        ],
        [
         "27",
         "kabupatenhumbanghasundutan@gmail.com",
         "60871"
        ],
        [
         "28",
         "kabupatenkaro@gmail.com",
         "444987"
        ],
        [
         "29",
         "kabupatenlabuhanbatu@gmail.com",
         "866018"
        ],
        [
         "30",
         "kabupatenlabuhanbatuselatan@gmail.com",
         "149655"
        ],
        [
         "31",
         "kabupatenlabuhanbatuutara@gmail.com",
         "826527"
        ],
        [
         "32",
         "kabupatenlangkat@gmail.com",
         "70545"
        ],
        [
         "33",
         "kabupatenmandailingnatal@gmail.com",
         "363893"
        ],
        [
         "34",
         "kabupatennias@gmail.com",
         "681695"
        ],
        [
         "35",
         "kabupatenniasbarat@gmail.com",
         "612808"
        ],
        [
         "36",
         "kabupatenniasselatan@gmail.com",
         "217516"
        ],
        [
         "37",
         "kabupatenniasutara@gmail.com",
         "892651"
        ],
        [
         "38",
         "kabupatenpadanglawas@gmail.com",
         "933308"
        ],
        [
         "39",
         "kabupatenpadanglawasutara@gmail.com",
         "823931"
        ],
        [
         "40",
         "kabupatenpakpakbharat@gmail.com",
         "318117"
        ],
        [
         "41",
         "kabupatensamosir@gmail.com",
         "509448"
        ],
        [
         "42",
         "kabupatenserdangbedagai@gmail.com",
         "33613"
        ],
        [
         "43",
         "kabupatensimalungun@gmail.com",
         "813777"
        ],
        [
         "44",
         "kabupatentapanuliselatan@gmail.com",
         "717898"
        ],
        [
         "45",
         "kabupatentapanulitengah@gmail.com",
         "562269"
        ],
        [
         "46",
         "kabupatentapanuliutara@gmail.com",
         "980008"
        ],
        [
         "47",
         "kabupatentobasamosir@gmail.com",
         "577570"
        ],
        [
         "48",
         "kotabinjai@gmail.com",
         "252471"
        ],
        [
         "49",
         "kotagunungsitoli@gmail.com",
         "936279"
        ]
       ],
       "shape": {
        "columns": 2,
        "rows": 514
       }
      },
      "text/html": [
       "<div>\n",
       "<style scoped>\n",
       "    .dataframe tbody tr th:only-of-type {\n",
       "        vertical-align: middle;\n",
       "    }\n",
       "\n",
       "    .dataframe tbody tr th {\n",
       "        vertical-align: top;\n",
       "    }\n",
       "\n",
       "    .dataframe thead th {\n",
       "        text-align: right;\n",
       "    }\n",
       "</style>\n",
       "<table border=\"1\" class=\"dataframe\">\n",
       "  <thead>\n",
       "    <tr style=\"text-align: right;\">\n",
       "      <th></th>\n",
       "      <th>nama</th>\n",
       "      <th>passwd</th>\n",
       "    </tr>\n",
       "  </thead>\n",
       "  <tbody>\n",
       "    <tr>\n",
       "      <th>0</th>\n",
       "      <td>kabupatenacehbarat@gmail.com</td>\n",
       "      <td>760992</td>\n",
       "    </tr>\n",
       "    <tr>\n",
       "      <th>1</th>\n",
       "      <td>kabupatenacehbaratdaya@gmail.com</td>\n",
       "      <td>587378</td>\n",
       "    </tr>\n",
       "    <tr>\n",
       "      <th>2</th>\n",
       "      <td>kabupatenacehbesar@gmail.com</td>\n",
       "      <td>742332</td>\n",
       "    </tr>\n",
       "    <tr>\n",
       "      <th>3</th>\n",
       "      <td>kabupatenacehjaya@gmail.com</td>\n",
       "      <td>826325</td>\n",
       "    </tr>\n",
       "    <tr>\n",
       "      <th>4</th>\n",
       "      <td>kabupatenacehselatan@gmail.com</td>\n",
       "      <td>74060</td>\n",
       "    </tr>\n",
       "    <tr>\n",
       "      <th>...</th>\n",
       "      <td>...</td>\n",
       "      <td>...</td>\n",
       "    </tr>\n",
       "    <tr>\n",
       "      <th>509</th>\n",
       "      <td>kabupatensorong@gmail.com</td>\n",
       "      <td>543637</td>\n",
       "    </tr>\n",
       "    <tr>\n",
       "      <th>510</th>\n",
       "      <td>kabupatensorongselatan@gmail.com</td>\n",
       "      <td>421758</td>\n",
       "    </tr>\n",
       "    <tr>\n",
       "      <th>511</th>\n",
       "      <td>kabupatentambrauw@gmail.com</td>\n",
       "      <td>139004</td>\n",
       "    </tr>\n",
       "    <tr>\n",
       "      <th>512</th>\n",
       "      <td>kabupatentelukbintuni@gmail.com</td>\n",
       "      <td>765348</td>\n",
       "    </tr>\n",
       "    <tr>\n",
       "      <th>513</th>\n",
       "      <td>kabupatentelukwondama@gmail.com</td>\n",
       "      <td>82196</td>\n",
       "    </tr>\n",
       "  </tbody>\n",
       "</table>\n",
       "<p>514 rows × 2 columns</p>\n",
       "</div>"
      ],
      "text/plain": [
       "                                 nama  passwd\n",
       "0        kabupatenacehbarat@gmail.com  760992\n",
       "1    kabupatenacehbaratdaya@gmail.com  587378\n",
       "2        kabupatenacehbesar@gmail.com  742332\n",
       "3         kabupatenacehjaya@gmail.com  826325\n",
       "4      kabupatenacehselatan@gmail.com   74060\n",
       "..                                ...     ...\n",
       "509         kabupatensorong@gmail.com  543637\n",
       "510  kabupatensorongselatan@gmail.com  421758\n",
       "511       kabupatentambrauw@gmail.com  139004\n",
       "512   kabupatentelukbintuni@gmail.com  765348\n",
       "513   kabupatentelukwondama@gmail.com   82196\n",
       "\n",
       "[514 rows x 2 columns]"
      ]
     },
     "execution_count": 7,
     "metadata": {},
     "output_type": "execute_result"
    }
   ],
   "source": [
    "dataset"
   ]
  },
  {
   "cell_type": "code",
   "execution_count": null,
   "id": "7ff72fc0",
   "metadata": {},
   "outputs": [],
   "source": []
  }
 ],
 "metadata": {
  "kernelspec": {
   "display_name": "Python 3",
   "language": "python",
   "name": "python3"
  },
  "language_info": {
   "codemirror_mode": {
    "name": "ipython",
    "version": 3
   },
   "file_extension": ".py",
   "mimetype": "text/x-python",
   "name": "python",
   "nbconvert_exporter": "python",
   "pygments_lexer": "ipython3",
   "version": "3.11.0"
  }
 },
 "nbformat": 4,
 "nbformat_minor": 5
}
